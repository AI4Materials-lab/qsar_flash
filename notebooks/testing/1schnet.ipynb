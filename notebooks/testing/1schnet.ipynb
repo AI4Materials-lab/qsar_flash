{
 "cells": [
  {
   "cell_type": "code",
   "execution_count": null,
   "metadata": {},
   "outputs": [],
   "source": [
    "%cd ~/qsar_flash/"
   ]
  },
  {
   "cell_type": "code",
   "execution_count": null,
   "metadata": {},
   "outputs": [],
   "source": [
    "import flash\n",
    "from torchmetrics import MeanAbsoluteError\n",
    "\n",
    "from qsar_flash import MolecularGraphRegressor, GraphRegressionData, QM9Property"
   ]
  },
  {
   "cell_type": "code",
   "execution_count": null,
   "metadata": {},
   "outputs": [],
   "source": [
    "MolecularGraphRegressor.available_backbones()"
   ]
  },
  {
   "cell_type": "code",
   "execution_count": null,
   "metadata": {},
   "outputs": [],
   "source": [
    "MolecularGraphRegressor.available_lr_schedulers()"
   ]
  },
  {
   "cell_type": "code",
   "execution_count": null,
   "metadata": {},
   "outputs": [],
   "source": [
    "from torch.nn import functional as F\n",
    "\n",
    "dataset = QM9Property(property_index=4, root=\"data/qm9\")\n",
    "\n",
    "datamodule = GraphRegressionData.from_datasets(\n",
    "    train_dataset=dataset,\n",
    "    val_split=0.2,\n",
    "    batch_size=32,\n",
    "    num_workers=64,\n",
    "    pin_memory=True,\n",
    ")\n",
    "\n",
    "# 2. Build the task\n",
    "backbone_kwargs = dict(\n",
    "    hidden_channels=128,\n",
    "    num_filters=128,\n",
    "    num_interactions=6,\n",
    "    num_gaussians=100,\n",
    "    cutoff=10.,\n",
    "    max_num_neighbors=32,\n",
    ")\n",
    "\n",
    "lr_scheduler_kwargs = dict(\n",
    "    max_lr=0.0001,\n",
    "    total_steps=len(datamodule.train_dataset)  # type: ignore\n",
    ")\n",
    "\n",
    "lr_scheduler_pl_kwargs = dict(\n",
    "    interval='step'\n",
    ")\n",
    "model = MolecularGraphRegressor(\n",
    "    backbone=\"SchNet\", metrics=MeanAbsoluteError(), learning_rate=0.0001, pooling_fn=\"add\", optimizer=\"Adam\", loss_fn=F.l1_loss,  lr_scheduler=(\"onecyclelr\", lr_scheduler_kwargs, lr_scheduler_pl_kwargs),\n",
    "    backbone_kwargs=backbone_kwargs\n",
    ")"
   ]
  },
  {
   "cell_type": "code",
   "execution_count": null,
   "metadata": {},
   "outputs": [],
   "source": [
    "import wandb\n",
    "wandb.finish()"
   ]
  },
  {
   "cell_type": "code",
   "execution_count": null,
   "metadata": {},
   "outputs": [],
   "source": [
    "from pytorch_lightning.loggers import WandbLogger\n",
    "from pytorch_lightning.callbacks import LearningRateMonitor\n",
    "\n",
    "wandb_logger = WandbLogger(\n",
    "    name=\"schnet-test\",\n",
    "    project=\"graph-drug\",\n",
    "    entity=\"inno-materials-ai\",\n",
    ")\n",
    "lr_monitor = LearningRateMonitor(logging_interval='step') \n",
    "\n",
    "# 3. Create the trainer and fit the model\n",
    "trainer = flash.Trainer(max_epochs=50, gpus=[1], logger=wandb_logger, callbacks=[lr_monitor])\n",
    "trainer.fit(model, datamodule=datamodule)"
   ]
  },
  {
   "cell_type": "code",
   "execution_count": null,
   "metadata": {},
   "outputs": [],
   "source": []
  }
 ],
 "metadata": {
  "interpreter": {
   "hash": "068577de2b08a0b4a0c73c2d8302ff9ae1beef315308a6a56d9dfc398e31fbd4"
  },
  "kernelspec": {
   "display_name": "Python 3.9.12 ('qsar-flash')",
   "language": "python",
   "name": "python3"
  },
  "language_info": {
   "codemirror_mode": {
    "name": "ipython",
    "version": 3
   },
   "file_extension": ".py",
   "mimetype": "text/x-python",
   "name": "python",
   "nbconvert_exporter": "python",
   "pygments_lexer": "ipython3",
   "version": "3.9.12"
  },
  "orig_nbformat": 4
 },
 "nbformat": 4,
 "nbformat_minor": 2
}
