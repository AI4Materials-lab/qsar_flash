{
 "cells": [
  {
   "cell_type": "code",
   "execution_count": 1,
   "metadata": {},
   "outputs": [
    {
     "name": "stdout",
     "output_type": "stream",
     "text": [
      "/home/nm_rostislav/qsar_flash\n"
     ]
    }
   ],
   "source": [
    "%cd ~/qsar_flash/"
   ]
  },
  {
   "cell_type": "code",
   "execution_count": 2,
   "metadata": {},
   "outputs": [],
   "source": [
    "import flash\n",
    "from torchmetrics import MeanAbsoluteError\n",
    "\n",
    "from qsar_flash import MolecularGraphRegressor, GraphRegressionData, QM9Property"
   ]
  },
  {
   "cell_type": "code",
   "execution_count": 5,
   "metadata": {},
   "outputs": [],
   "source": [
    "from torch.nn import functional as F\n",
    "\n",
    "dataset = QM9Property(property_index=4, root=\"data/qm9\")\n",
    "\n",
    "datamodule = GraphRegressionData.from_datasets(\n",
    "    train_dataset=dataset,\n",
    "    val_split=0.2,\n",
    "    batch_size=32,\n",
    "    num_workers=64,\n",
    "    pin_memory=True,\n",
    ")\n",
    "\n",
    "# 2. Build the task\n",
    "backbone_kwargs = dict(\n",
    "    hidden_channels=128,\n",
    "    num_filters=128,\n",
    "    num_interactions=6,\n",
    "    num_gaussians=100,\n",
    "    cutoff=10.,\n",
    "    max_num_neighbors=32,\n",
    ")\n",
    "model = MolecularGraphRegressor(\n",
    "    backbone=\"SchNet\", metrics=MeanAbsoluteError(), learning_rate=0.0001, pooling_fn=\"add\", optimizer=\"Adam\", loss_fn=F.l1_loss,\n",
    "    backbone_kwargs=backbone_kwargs\n",
    ")"
   ]
  },
  {
   "cell_type": "code",
   "execution_count": 6,
   "metadata": {},
   "outputs": [
    {
     "name": "stderr",
     "output_type": "stream",
     "text": [
      "GPU available: True, used: True\n",
      "TPU available: False, using: 0 TPU cores\n",
      "IPU available: False, using: 0 IPUs\n",
      "HPU available: False, using: 0 HPUs\n",
      "LOCAL_RANK: 0 - CUDA_VISIBLE_DEVICES: [0,1,2]\n",
      "\n",
      "  | Name          | Type                      | Params\n",
      "------------------------------------------------------------\n",
      "0 | train_metrics | ModuleDict                | 0     \n",
      "1 | val_metrics   | ModuleDict                | 0     \n",
      "2 | test_metrics  | ModuleDict                | 0     \n",
      "3 | backbone      | SchNetBackbone            | 485 K \n",
      "4 | head          | DefaultMolecularGraphHead | 16.6 K\n",
      "------------------------------------------------------------\n",
      "502 K     Trainable params\n",
      "0         Non-trainable params\n",
      "502 K     Total params\n",
      "2.010     Total estimated model params size (MB)\n"
     ]
    },
    {
     "data": {
      "application/vnd.jupyter.widget-view+json": {
       "model_id": "ed67fa5874054e0392fd8efb625b15e3",
       "version_major": 2,
       "version_minor": 0
      },
      "text/plain": [
       "Sanity Checking: 0it [00:00, ?it/s]"
      ]
     },
     "metadata": {},
     "output_type": "display_data"
    },
    {
     "data": {
      "application/vnd.jupyter.widget-view+json": {
       "model_id": "20229c3abda842bea0c7c320b75a26bf",
       "version_major": 2,
       "version_minor": 0
      },
      "text/plain": [
       "Training: 0it [00:00, ?it/s]"
      ]
     },
     "metadata": {},
     "output_type": "display_data"
    }
   ],
   "source": [
    "# 3. Create the trainer and fit the model\n",
    "trainer = flash.Trainer(max_epochs=50, gpus=[1])\n",
    "trainer.fit(model, datamodule=datamodule)"
   ]
  },
  {
   "cell_type": "code",
   "execution_count": null,
   "metadata": {},
   "outputs": [],
   "source": []
  }
 ],
 "metadata": {
  "interpreter": {
   "hash": "068577de2b08a0b4a0c73c2d8302ff9ae1beef315308a6a56d9dfc398e31fbd4"
  },
  "kernelspec": {
   "display_name": "Python 3.9.12 ('qsar-flash')",
   "language": "python",
   "name": "python3"
  },
  "language_info": {
   "codemirror_mode": {
    "name": "ipython",
    "version": 3
   },
   "file_extension": ".py",
   "mimetype": "text/x-python",
   "name": "python",
   "nbconvert_exporter": "python",
   "pygments_lexer": "ipython3",
   "version": "3.9.12"
  },
  "orig_nbformat": 4
 },
 "nbformat": 4,
 "nbformat_minor": 2
}
