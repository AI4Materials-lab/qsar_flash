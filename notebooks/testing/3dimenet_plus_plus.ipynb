{
 "cells": [
  {
   "cell_type": "code",
   "execution_count": 1,
   "metadata": {},
   "outputs": [
    {
     "name": "stdout",
     "output_type": "stream",
     "text": [
      "/home/nm_rostislav/qsar_flash\n"
     ]
    }
   ],
   "source": [
    "%cd ~/qsar_flash/"
   ]
  },
  {
   "cell_type": "code",
   "execution_count": 2,
   "metadata": {},
   "outputs": [],
   "source": [
    "import flash\n",
    "from torchmetrics.regression.mae import MeanAbsoluteError\n",
    "\n",
    "from qsar_flash import MolecularGraphRegressor, GraphRegressionData, QM9Property"
   ]
  },
  {
   "cell_type": "code",
   "execution_count": 4,
   "metadata": {},
   "outputs": [],
   "source": [
    "import torch\n",
    "from torch import nn\n",
    "from torch_geometric.nn.inits import glorot_orthogonal\n",
    "from torch.nn import functional as F\n",
    "\n",
    "dataset = QM9Property(property_index=4, root=\"data/qm9\")\n",
    "\n",
    "datamodule = GraphRegressionData.from_datasets(\n",
    "    train_dataset=dataset,\n",
    "    val_split=0.2,\n",
    "    batch_size=64,\n",
    "    num_workers=64,\n",
    "    pin_memory=True,\n",
    ")\n",
    "\n",
    "# 2. Build the task\n",
    "backbone_kwargs = dict(\n",
    "    hidden_channels=128, \n",
    "    out_channels=128, \n",
    "    int_emb_size=64,\n",
    "    out_emb_channels=256,\n",
    "    num_blocks=6,\n",
    "    basis_emb_size=8, \n",
    "    num_spherical=7, \n",
    "    num_radial=6,\n",
    "    cutoff=10.0, \n",
    "    envelope_exponent=5, \n",
    "    num_before_skip=1,\n",
    "    num_after_skip=2, \n",
    "    num_output_layers=3,\n",
    ")\n",
    "\n",
    "class DimenetMolecularGraphHead(torch.nn.Module):\n",
    "    def __init__(self, hidden_channels: int, dropout: float = 0.5):\n",
    "        super().__init__()\n",
    "        self.lin1 = nn.Linear(hidden_channels, hidden_channels)\n",
    "        self.lin2 = nn.Linear(hidden_channels, 1)\n",
    "        self.dropout = dropout\n",
    "        self.act = nn.SiLU()\n",
    "\n",
    "    def reset_parameters(self):\n",
    "        glorot_orthogonal(self.lin1.weight, scale=2.0)\n",
    "        glorot_orthogonal(self.lin2.weight, scale=2.0)\n",
    "        self.lin2.bias.data.fill_(0)\n",
    "\n",
    "    def forward(self, x):\n",
    "        x = self.act(self.lin1(x))\n",
    "        x = F.dropout(x, p=self.dropout, training=self.training)\n",
    "        return self.lin2(x)\n",
    "\n",
    "model = MolecularGraphRegressor(\n",
    "    backbone=\"DimeNet++\", metrics=MeanAbsoluteError(), learning_rate=0.001, pooling_fn=\"add\", optimizer=\"AdamW\",\n",
    "    backbone_kwargs=backbone_kwargs, head=DimenetMolecularGraphHead(backbone_kwargs[\"out_channels\"]), \n",
    ")"
   ]
  },
  {
   "cell_type": "code",
   "execution_count": 6,
   "metadata": {},
   "outputs": [
    {
     "name": "stderr",
     "output_type": "stream",
     "text": [
      "GPU available: True, used: False\n",
      "TPU available: False, using: 0 TPU cores\n",
      "IPU available: False, using: 0 IPUs\n",
      "HPU available: False, using: 0 HPUs\n",
      "/home/nm_rostislav/miniconda3/envs/qsar-flash/lib/python3.9/site-packages/pytorch_lightning/trainer/trainer.py:1823: PossibleUserWarning: GPU available but not used. Set `accelerator` and `devices` using `Trainer(accelerator='gpu', devices=3)`.\n",
      "  rank_zero_warn(\n",
      "Running in fast_dev_run mode: will run a full train, val, test and prediction loop using 1 batch(es).\n",
      "`Trainer(limit_train_batches=1)` was configured so 1 batch per epoch will be used.\n",
      "`Trainer(limit_val_batches=1)` was configured so 1 batch will be used.\n",
      "`Trainer(limit_test_batches=1)` was configured so 1 batch will be used.\n",
      "`Trainer(limit_predict_batches=1)` was configured so 1 batch will be used.\n",
      "`Trainer(val_check_interval=1.0)` was configured so validation will run at the end of the training epoch..\n",
      "\n",
      "  | Name          | Type                      | Params\n",
      "------------------------------------------------------------\n",
      "0 | train_metrics | ModuleDict                | 0     \n",
      "1 | val_metrics   | ModuleDict                | 0     \n",
      "2 | test_metrics  | ModuleDict                | 0     \n",
      "3 | backbone      | DimeNetPlusPlusBackbone   | 2.9 M \n",
      "4 | head          | DimenetMolecularGraphHead | 16.6 K\n",
      "------------------------------------------------------------\n",
      "2.9 M     Trainable params\n",
      "0         Non-trainable params\n",
      "2.9 M     Total params\n",
      "11.712    Total estimated model params size (MB)\n"
     ]
    },
    {
     "data": {
      "application/vnd.jupyter.widget-view+json": {
       "model_id": "385e9816f88545a490c6600574122e11",
       "version_major": 2,
       "version_minor": 0
      },
      "text/plain": [
       "Training: 0it [00:00, ?it/s]"
      ]
     },
     "metadata": {},
     "output_type": "display_data"
    },
    {
     "data": {
      "application/vnd.jupyter.widget-view+json": {
       "model_id": "1fda2080bdad44b48df521b8f8eda9a9",
       "version_major": 2,
       "version_minor": 0
      },
      "text/plain": [
       "Validation: 0it [00:00, ?it/s]"
      ]
     },
     "metadata": {},
     "output_type": "display_data"
    }
   ],
   "source": [
    "# 3. Create the trainer and fit the model\n",
    "trainer = flash.Trainer(max_epochs=50, gpus=None, gradient_clip_val=10., fast_dev_run=True)\n",
    "trainer.fit(model, datamodule=datamodule)"
   ]
  },
  {
   "cell_type": "code",
   "execution_count": null,
   "metadata": {},
   "outputs": [],
   "source": []
  }
 ],
 "metadata": {
  "interpreter": {
   "hash": "068577de2b08a0b4a0c73c2d8302ff9ae1beef315308a6a56d9dfc398e31fbd4"
  },
  "kernelspec": {
   "display_name": "Python 3.9.12 ('qsar-flash')",
   "language": "python",
   "name": "python3"
  },
  "language_info": {
   "codemirror_mode": {
    "name": "ipython",
    "version": 3
   },
   "file_extension": ".py",
   "mimetype": "text/x-python",
   "name": "python",
   "nbconvert_exporter": "python",
   "pygments_lexer": "ipython3",
   "version": "3.9.12"
  },
  "orig_nbformat": 4
 },
 "nbformat": 4,
 "nbformat_minor": 2
}
