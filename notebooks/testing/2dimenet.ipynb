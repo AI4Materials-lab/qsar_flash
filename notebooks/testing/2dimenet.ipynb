{
 "cells": [
  {
   "cell_type": "code",
   "execution_count": null,
   "metadata": {},
   "outputs": [],
   "source": [
    "%cd ~/qsar_flash/"
   ]
  },
  {
   "cell_type": "code",
   "execution_count": null,
   "metadata": {},
   "outputs": [],
   "source": [
    "import flash\n",
    "from torchmetrics.regression.mae import MeanAbsoluteError\n",
    "\n",
    "from qsar_flash import MolecularGraphRegressor, GraphRegressionData, QM9Property"
   ]
  },
  {
   "cell_type": "code",
   "execution_count": null,
   "metadata": {},
   "outputs": [],
   "source": [
    "import torch\n",
    "from torch import nn\n",
    "from torch_geometric.nn.inits import glorot_orthogonal\n",
    "from torch.nn import functional as F\n",
    "\n",
    "dataset = QM9Property(property_index=4, root=\"data/qm9\")\n",
    "\n",
    "datamodule = GraphRegressionData.from_datasets(\n",
    "    train_dataset=dataset,\n",
    "    val_split=0.2,\n",
    "    batch_size=64,\n",
    "    num_workers=64,\n",
    "    pin_memory=True,\n",
    ")\n",
    "\n",
    "# 2. Build the task\n",
    "backbone_kwargs = dict(\n",
    "    hidden_channels=128, \n",
    "    out_channels=128, \n",
    "    num_blocks=6,\n",
    "    num_bilinear=8, \n",
    "    num_spherical=7, \n",
    "    num_radial=6,\n",
    "    cutoff=5.0, \n",
    "    envelope_exponent=5, \n",
    "    num_before_skip=1,\n",
    "    num_after_skip=2, \n",
    "    num_output_layers=1,\n",
    ")\n",
    "\n",
    "class DimenetMolecularGraphHead(torch.nn.Module):\n",
    "    def __init__(self, hidden_channels: int, dropout: float = 0.5):\n",
    "        super().__init__()\n",
    "        self.lin1 = nn.Linear(hidden_channels, hidden_channels)\n",
    "        self.lin2 = nn.Linear(hidden_channels, 1)\n",
    "        self.dropout = dropout\n",
    "        self.act = nn.SiLU()\n",
    "\n",
    "    def reset_parameters(self):\n",
    "        glorot_orthogonal(self.lin1.weight, scale=2.0)\n",
    "        glorot_orthogonal(self.lin2.weight, scale=2.0)\n",
    "        self.lin2.bias.data.fill_(0)\n",
    "\n",
    "    def forward(self, x):\n",
    "        x = self.act(self.lin1(x))\n",
    "        x = F.dropout(x, p=self.dropout, training=self.training)\n",
    "        return self.lin2(x)\n",
    "\n",
    "model = MolecularGraphRegressor(\n",
    "    backbone=\"DimeNet\", metrics=MeanAbsoluteError(), learning_rate=0.001, pooling_fn=\"add\", optimizer=\"AdamW\",\n",
    "    backbone_kwargs=backbone_kwargs, head=DimenetMolecularGraphHead(backbone_kwargs[\"out_channels\"]), \n",
    ")"
   ]
  },
  {
   "cell_type": "code",
   "execution_count": null,
   "metadata": {},
   "outputs": [],
   "source": [
    "# 3. Create the trainer and fit the model\n",
    "trainer = flash.Trainer(max_epochs=50, gpus=[1], gradient_clip_val=10.)\n",
    "trainer.fit(model, datamodule=datamodule)"
   ]
  },
  {
   "cell_type": "code",
   "execution_count": null,
   "metadata": {},
   "outputs": [],
   "source": []
  }
 ],
 "metadata": {
  "interpreter": {
   "hash": "068577de2b08a0b4a0c73c2d8302ff9ae1beef315308a6a56d9dfc398e31fbd4"
  },
  "kernelspec": {
   "display_name": "Python 3.9.12 ('qsar-flash')",
   "language": "python",
   "name": "python3"
  },
  "language_info": {
   "codemirror_mode": {
    "name": "ipython",
    "version": 3
   },
   "file_extension": ".py",
   "mimetype": "text/x-python",
   "name": "python",
   "nbconvert_exporter": "python",
   "pygments_lexer": "ipython3",
   "version": "3.9.12"
  },
  "orig_nbformat": 4
 },
 "nbformat": 4,
 "nbformat_minor": 2
}
