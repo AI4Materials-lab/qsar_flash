{
 "cells": [
  {
   "cell_type": "code",
   "execution_count": 1,
   "metadata": {},
   "outputs": [
    {
     "name": "stdout",
     "output_type": "stream",
     "text": [
      "/home/nm_rostislav/qsar_flash\n"
     ]
    }
   ],
   "source": [
    "from examples.graph_regression import main\n",
    "%cd ~/qsar_flash"
   ]
  },
  {
   "cell_type": "code",
   "execution_count": 2,
   "metadata": {},
   "outputs": [
    {
     "name": "stderr",
     "output_type": "stream",
     "text": [
      "100%|██████████| 130831/130831 [00:13<00:00, 9491.60it/s] \n",
      "/home/nm_rostislav/miniconda3/envs/qsar-flash/lib/python3.9/site-packages/pytorch_lightning/utilities/parsing.py:244: UserWarning: Attribute 'metrics' is an instance of `nn.Module` and is already saved during checkpointing. It is recommended to ignore them using `self.save_hyperparameters(ignore=['metrics'])`.\n",
      "  rank_zero_warn(\n",
      "Using 'GIN' provided by PyG/PyTorch Geometric (https://github.com/pyg-team/pytorch_geometric).\n",
      "GPU available: True, used: True\n",
      "TPU available: False, using: 0 TPU cores\n",
      "IPU available: False, using: 0 IPUs\n",
      "HPU available: False, using: 0 HPUs\n",
      "LOCAL_RANK: 0 - CUDA_VISIBLE_DEVICES: [0,1,2]\n",
      "\n",
      "  | Name          | Type             | Params\n",
      "---------------------------------------------------\n",
      "0 | train_metrics | ModuleDict       | 0     \n",
      "1 | val_metrics   | ModuleDict       | 0     \n",
      "2 | test_metrics  | ModuleDict       | 0     \n",
      "3 | backbone      | GIN              | 118 K \n",
      "4 | head          | DefaultGraphHead | 16.6 K\n",
      "---------------------------------------------------\n",
      "134 K     Trainable params\n",
      "0         Non-trainable params\n",
      "134 K     Total params\n",
      "0.539     Total estimated model params size (MB)\n",
      "/home/nm_rostislav/miniconda3/envs/qsar-flash/lib/python3.9/site-packages/pytorch_lightning/trainer/connectors/data_connector.py:471: UserWarning: You requested to overfit but enabled training dataloader shuffling. We are turning off the training dataloader shuffling for you.\n",
      "  rank_zero_warn(\n",
      "/home/nm_rostislav/miniconda3/envs/qsar-flash/lib/python3.9/site-packages/pytorch_lightning/trainer/connectors/data_connector.py:240: PossibleUserWarning: The dataloader, train_dataloader, does not have many workers which may be a bottleneck. Consider increasing the value of the `num_workers` argument` (try 128 which is the number of cpus on this machine) in the `DataLoader` init to improve performance.\n",
      "  rank_zero_warn(\n"
     ]
    },
    {
     "data": {
      "application/vnd.jupyter.widget-view+json": {
       "model_id": "d537e7cb74fb450484dff1855f2bdfcc",
       "version_major": 2,
       "version_minor": 0
      },
      "text/plain": [
       "Training: 0it [00:00, ?it/s]"
      ]
     },
     "metadata": {},
     "output_type": "display_data"
    }
   ],
   "source": [
    "# %%prun\n",
    "\n",
    "main()"
   ]
  },
  {
   "cell_type": "code",
   "execution_count": 3,
   "metadata": {},
   "outputs": [
    {
     "name": "stderr",
     "output_type": "stream",
     "text": [
      "100%|██████████| 130831/130831 [00:14<00:00, 9241.72it/s] \n"
     ]
    }
   ],
   "source": [
    "from qsar_flash.datasets.qm9_property import QM9Property\n",
    "from qsar_flash import GraphRegressionData, GraphRegressor\n",
    "\n",
    "dataset = QM9Property(property_index=4, root=\"data/qm9\")\n",
    "\n",
    "datamodule = GraphRegressionData.from_datasets(\n",
    "    train_dataset=dataset,\n",
    "    val_split=0.1,\n",
    "    batch_size=32,\n",
    "    num_workers=0,\n",
    "    pin_memory=False,\n",
    ")"
   ]
  },
  {
   "cell_type": "code",
   "execution_count": 4,
   "metadata": {},
   "outputs": [
    {
     "data": {
      "text/plain": [
       "Data(x=[5, 11], edge_index=[2, 8], edge_attr=[8, 4], y=[1], pos=[5, 3], z=[5], name='gdb_1', idx=[1])"
      ]
     },
     "execution_count": 4,
     "metadata": {},
     "output_type": "execute_result"
    }
   ],
   "source": [
    "dataset[0]"
   ]
  },
  {
   "cell_type": "code",
   "execution_count": 3,
   "metadata": {},
   "outputs": [],
   "source": [
    "train_dl = datamodule.train_dataloader()"
   ]
  },
  {
   "cell_type": "code",
   "execution_count": 4,
   "metadata": {},
   "outputs": [
    {
     "data": {
      "text/plain": [
       "{<DataKeys.INPUT: 'input'>: Data(x=[18, 11], edge_index=[2, 38], edge_attr=[38, 4], y=[1], pos=[18, 3], z=[18], name='gdb_90372', idx=[1]),\n",
       " <DataKeys.TARGET: 'target'>: tensor([7.1539])}"
      ]
     },
     "execution_count": 4,
     "metadata": {},
     "output_type": "execute_result"
    }
   ],
   "source": [
    "train_dl.dataset[0]"
   ]
  },
  {
   "cell_type": "code",
   "execution_count": 6,
   "metadata": {},
   "outputs": [
    {
     "name": "stderr",
     "output_type": "stream",
     "text": [
      "100%|██████████| 10/10 [00:00<00:00, 189.78it/s]"
     ]
    },
    {
     "name": "stdout",
     "output_type": "stream",
     "text": [
      " "
     ]
    },
    {
     "name": "stderr",
     "output_type": "stream",
     "text": [
      "\n"
     ]
    },
    {
     "name": "stdout",
     "output_type": "stream",
     "text": [
      "         57566 function calls (56913 primitive calls) in 0.056 seconds\n",
      "\n",
      "   Ordered by: internal time\n",
      "\n",
      "   ncalls  tottime  percall  cumtime  percall filename:lineno(function)\n",
      "       80    0.006    0.000    0.006    0.000 {built-in method cat}\n",
      "        1    0.004    0.004    0.004    0.004 {method 'tolist' of 'torch._C._TensorBase' objects}\n",
      "        1    0.003    0.003    0.003    0.003 {built-in method randperm}\n",
      "      150    0.002    0.000    0.004    0.000 collate.py:212(cumsum)\n",
      "       10    0.002    0.000    0.002    0.000 collate.py:135(<listcomp>)\n",
      "      640    0.002    0.000    0.005    0.000 storage.py:248(num_nodes)\n",
      "     3180    0.002    0.000    0.002    0.000 {method 'size' of 'torch._C._TensorBase' objects}\n",
      "      150    0.001    0.000    0.001    0.000 {built-in method tensor}\n",
      "     3840    0.001    0.000    0.001    0.000 storage.py:69(__getitem__)\n",
      "      320    0.001    0.000    0.001    0.000 {built-in method full}\n",
      "      321    0.001    0.000    0.008    0.000 sampler.py:107(__iter__)\n",
      "       35    0.001    0.000    0.001    0.000 {method 'acquire' of '_thread.lock' objects}\n",
      "4880/4240    0.001    0.000    0.002    0.000 {built-in method builtins.isinstance}\n",
      "       80    0.001    0.000    0.020    0.000 collate.py:115(_collate)\n",
      "       70    0.001    0.000    0.004    0.000 collate.py:223(<listcomp>)\n",
      "       10    0.001    0.000    0.028    0.003 collate.py:13(collate)\n",
      "     1630    0.001    0.000    0.002    0.000 input.py:80(__hash__)\n",
      "      640    0.001    0.000    0.001    0.000 _tensor.py:676(__len__)\n",
      "      150    0.001    0.000    0.001    0.000 {built-in method cumsum}\n",
      "     1950    0.001    0.000    0.001    0.000 types.py:171(__get__)\n",
      "      640    0.001    0.000    0.004    0.000 in_memory_dataset.py:74(len)\n",
      "      320    0.001    0.000    0.002    0.000 samples.py:22(to_sample)\n",
      "     1280    0.001    0.000    0.001    0.000 in_memory_dataset.py:139(nested_iter)\n",
      "      960    0.001    0.000    0.001    0.000 _collections_abc.py:767(__contains__)\n",
      "       80    0.001    0.000    0.001    0.000 collate.py:70(<listcomp>)\n",
      "      320    0.001    0.000    0.005    0.000 input.py:208(_call_load_sample)\n",
      "      320    0.000    0.000    0.005    0.000 dataset.py:183(__getitem__)\n",
      "     1280    0.000    0.000    0.001    0.000 view.py:38(__iter__)\n",
      "2372/2370    0.000    0.000    0.002    0.000 {built-in method builtins.len}\n",
      "       70    0.000    0.000    0.001    0.000 collate.py:131(<listcomp>)\n",
      "      320    0.000    0.000    0.002    0.000 qm9_property.py:26(get)\n",
      "     2240    0.000    0.000    0.004    0.000 data.py:437(__inc__)\n",
      "       70    0.000    0.000    0.007    0.000 collate.py:221(get_incs)\n",
      "      150    0.000    0.000    0.000    0.000 {method 'new_empty' of 'torch._C._TensorBase' objects}\n",
      "      660    0.000    0.000    0.001    0.000 view.py:10(_keys)\n",
      "      640    0.000    0.000    0.001    0.000 storage.py:134(items)\n",
      "      660    0.000    0.000    0.001    0.000 callback.py:44(run_for_all_callbacks)\n",
      "      650    0.000    0.000    0.000    0.000 {built-in method torch._C._get_tracing_state}\n",
      "        2    0.000    0.000    0.000    0.000 {built-in method empty}\n",
      "      320    0.000    0.000    0.003    0.000 input.py:41(load_sample)\n",
      "      340    0.000    0.000    0.031    0.000 input_transform.py:49(wrapper)\n",
      "      320    0.000    0.000    0.001    0.000 data.py:656(y)\n",
      "      320    0.000    0.000    0.001    0.000 enums.py:40(__hash__)\n",
      "      320    0.000    0.000    0.003    0.000 data.py:124(num_nodes)\n",
      "      320    0.000    0.000    0.010    0.000 splits.py:55(__getitem__)\n",
      "     1950    0.000    0.000    0.000    0.000 enum.py:792(value)\n",
      "      320    0.000    0.000    0.010    0.000 input.py:322(__getitem__)\n",
      "      320    0.000    0.000    0.002    0.000 dataset.py:89(indices)\n",
      "       10    0.000    0.000    0.034    0.003 input_transform.py:1120(__call__)\n",
      "       20    0.000    0.000    0.001    0.000 inspect.py:2152(_signature_from_function)\n",
      "      790    0.000    0.000    0.000    0.000 {method 'dim' of 'torch._C._TensorBase' objects}\n",
      "       10    0.000    0.000    0.000    0.000 {method 'unbind' of 'torch._C._TensorBase' objects}\n",
      "      320    0.000    0.000    0.001    0.000 input_transform.py:834(_per_sample_transform)\n",
      "      710    0.000    0.000    0.000    0.000 data.py:429(__cat_dim__)\n",
      "      320    0.000    0.000    0.001    0.000 typing.py:848(__subclasscheck__)\n",
      "     1950    0.000    0.000    0.000    0.000 {built-in method builtins.hash}\n",
      "      670    0.000    0.000    0.000    0.000 {built-in method _abc._abc_instancecheck}\n",
      "       10    0.000    0.000    0.000    0.000 {built-in method zeros}\n",
      "      320    0.000    0.000    0.000    0.000 {method 'to' of 'torch._C._TensorBase' objects}\n",
      "      670    0.000    0.000    0.000    0.000 abc.py:117(__instancecheck__)\n",
      "       10    0.000    0.000    0.002    0.000 input_transform.py:1117(<listcomp>)\n",
      "     1009    0.000    0.000    0.000    0.000 {built-in method builtins.getattr}\n",
      "       11    0.000    0.000    0.008    0.001 sampler.py:224(__iter__)\n",
      "       10    0.000    0.000    0.000    0.000 {built-in method stack}\n",
      "      660    0.000    0.000    0.000    0.000 view.py:6(__init__)\n",
      "        1    0.000    0.000    0.056    0.056 <string>:1(<module>)\n",
      "      320    0.000    0.000    0.003    0.000 data.py:142(<listcomp>)\n",
      "       80    0.000    0.000    0.000    0.000 inspect.py:2498(__init__)\n",
      "       10    0.000    0.000    0.010    0.001 fetch.py:49(<listcomp>)\n",
      "      320    0.000    0.000    0.001    0.000 typing.py:719(__instancecheck__)\n",
      "      320    0.000    0.000    0.003    0.000 input.py:270(train_load_sample)\n",
      "      320    0.000    0.000    0.000    0.000 data.py:370(__getitem__)\n",
      "      340    0.000    0.000    0.000    0.000 input_transform.py:996(_get_transform)\n",
      "      340    0.000    0.000    0.000    0.000 input_transform.py:98(current_transform)\n",
      "       10    0.000    0.000    0.001    0.000 batch.py:19(__call__)\n",
      "      320    0.000    0.000    0.001    0.000 callback.py:49(on_load_sample)\n",
      "       10    0.000    0.000    0.000    0.000 input_transform.py:37(<listcomp>)\n",
      "       10    0.000    0.000    0.000    0.000 input_transform.py:35(<listcomp>)\n",
      "       15    0.000    0.000    0.000    0.000 socket.py:480(send)\n",
      "      320    0.000    0.000    0.000    0.000 callback.py:52(on_per_sample_transform)\n",
      "       20    0.000    0.000    0.001    0.000 inspect.py:2246(_signature_from_callable)\n",
      "       10    0.000    0.000    0.001    0.000 collate.py:208(<listcomp>)\n",
      "      330    0.000    0.000    0.001    0.000 {method 'pop' of 'dict' objects}\n",
      "        2    0.000    0.000    0.000    0.000 {method 'random_' of 'torch._C._TensorBase' objects}\n",
      "      320    0.000    0.000    0.000    0.000 classification.py:24(_is_list_like)\n",
      "      330    0.000    0.000    0.000    0.000 {built-in method builtins.issubclass}\n",
      "      680    0.000    0.000    0.000    0.000 properties.py:33(current_fn)\n",
      "       10    0.000    0.000    0.002    0.000 collate.py:108(<listcomp>)\n",
      "       10    0.000    0.000    0.001    0.000 input_transform.py:1131(<listcomp>)\n",
      "       10    0.000    0.000    0.000    0.000 {built-in method torch._ops.profiler._record_function_enter}\n",
      "       10    0.000    0.000    0.000    0.000 {built-in method arange}\n",
      "      320    0.000    0.000    0.000    0.000 callback.py:162(on_load_sample)\n",
      "      660    0.000    0.000    0.000    0.000 callback.py:156(_store)\n",
      "      670    0.000    0.000    0.000    0.000 {method 'items' of 'dict' objects}\n",
      "      330    0.000    0.000    0.000    0.000 abc.py:121(__subclasscheck__)\n",
      "      320    0.000    0.000    0.000    0.000 callback.py:165(on_per_sample_transform)\n",
      "      320    0.000    0.000    0.000    0.000 data.py:415(node_stores)\n",
      "      660    0.000    0.000    0.000    0.000 {method 'keys' of 'dict' objects}\n",
      "        1    0.000    0.000    0.056    0.056 {built-in method builtins.exec}\n",
      "      322    0.000    0.000    0.000    0.000 {built-in method builtins.sum}\n",
      "      640    0.000    0.000    0.000    0.000 {built-in method torch._C._has_torch_function_unary}\n",
      "      330    0.000    0.000    0.000    0.000 {built-in method _abc._abc_subclasscheck}\n",
      "        2    0.000    0.000    0.000    0.000 std.py:355(format_meter)\n",
      "      720    0.000    0.000    0.000    0.000 {method 'append' of 'list' objects}\n",
      "       10    0.000    0.000    0.030    0.003 input_transform.py:33(_pyg_collate)\n",
      "       20    0.000    0.000    0.000    0.000 inspect.py:2781(__init__)\n",
      "       10    0.000    0.000    0.052    0.005 dataloader.py:526(__next__)\n",
      "      330    0.000    0.000    0.000    0.000 data.py:411(stores)\n",
      "      100    0.000    0.000    0.000    0.000 storage.py:72(__setitem__)\n",
      "       70    0.000    0.000    0.000    0.000 storage.py:55(__setattr__)\n",
      "      320    0.000    0.000    0.000    0.000 properties.py:37(running_stage)\n",
      "       10    0.000    0.000    0.000    0.000 {built-in method torch._ops.profiler._record_function_exit}\n",
      "       10    0.000    0.000    0.000    0.000 storage.py:234(can_infer_num_nodes)\n",
      "        1    0.000    0.000    0.001    0.001 std.py:846(__init__)\n",
      "       80    0.000    0.000    0.000    0.000 enum.py:358(__call__)\n",
      "      180    0.000    0.000    0.000    0.000 view.py:27(__iter__)\n",
      "      320    0.000    0.000    0.000    0.000 {method 'lower' of 'str' objects}\n",
      "        2    0.000    0.000    0.000    0.000 {method 'item' of 'torch._C._TensorBase' objects}\n",
      "      350    0.000    0.000    0.000    0.000 properties.py:29(current_fn)\n",
      "        1    0.000    0.000    0.001    0.001 dataloader.py:494(__init__)\n",
      "       15    0.000    0.000    0.000    0.000 iostream.py:208(schedule)\n",
      "       14    0.000    0.000    0.000    0.000 {method 'format' of 'str' objects}\n",
      "       10    0.000    0.000    0.052    0.005 dataloader.py:568(_next_data)\n",
      "       10    0.000    0.000    0.028    0.003 batch.py:56(from_data_list)\n",
      "       10    0.000    0.000    0.000    0.000 {built-in method builtins.any}\n",
      "      330    0.000    0.000    0.000    0.000 storage.py:438(_key)\n",
      "      330    0.000    0.000    0.000    0.000 input_transform.py:1118(<genexpr>)\n",
      "       10    0.000    0.000    0.000    0.000 storage.py:30(__init__)\n",
      "      100    0.000    0.000    0.000    0.000 inspect.py:2830(<genexpr>)\n",
      "       20    0.000    0.000    0.000    0.000 inspect.py:494(unwrap)\n",
      "       10    0.000    0.000    0.000    0.000 data.py:335(__init__)\n",
      "      330    0.000    0.000    0.000    0.000 input_transform.py:992(_identity)\n",
      "       10    0.000    0.000    0.030    0.003 input_transform.py:850(_collate)\n",
      "        4    0.000    0.000    0.001    0.000 iostream.py:453(flush)\n",
      "       10    0.000    0.000    0.000    0.000 profiler.py:435(__enter__)\n",
      "        1    0.000    0.000    0.000    0.000 {built-in method fcntl.ioctl}\n",
      "       10    0.000    0.000    0.000    0.000 collate.py:84(default_collate)\n",
      "       10    0.000    0.000    0.044    0.004 fetch.py:47(fetch)\n",
      "       88    0.000    0.000    0.000    0.000 utils.py:330(<genexpr>)\n",
      "       10    0.000    0.000    0.000    0.000 profiler.py:439(__exit__)\n",
      "       20    0.000    0.000    0.000    0.000 storage.py:128(keys)\n",
      "       19    0.000    0.000    0.000    0.000 threading.py:1126(is_alive)\n",
      "       10    0.000    0.000    0.000    0.000 _tensor.py:688(__iter__)\n",
      "        1    0.000    0.000    0.000    0.000 std.py:560(__new__)\n",
      "       10    0.000    0.000    0.002    0.000 collate.py:204(repeat_interleave)\n",
      "        4    0.000    0.000    0.000    0.000 threading.py:228(__init__)\n",
      "       80    0.000    0.000    0.000    0.000 worker.py:83(get_worker_info)\n",
      "        1    0.000    0.000    0.000    0.000 utils.py:282(_screen_shape_linux)\n",
      "        4    0.000    0.000    0.001    0.000 threading.py:280(wait)\n",
      "       11    0.000    0.000    0.001    0.000 std.py:1174(__iter__)\n",
      "       10    0.000    0.000    0.000    0.000 profiler.py:426(__init__)\n",
      "        5    0.000    0.000    0.000    0.000 std.py:104(acquire)\n",
      "       20    0.000    0.000    0.001    0.000 inspect.py:3111(signature)\n",
      "      100    0.000    0.000    0.000    0.000 {method 'get' of 'dict' objects}\n",
      "        4    0.000    0.000    0.000    0.000 iostream.py:502(write)\n",
      "       80    0.000    0.000    0.000    0.000 enum.py:670(__new__)\n",
      "        1    0.000    0.000    0.053    0.053 <string>:4(<listcomp>)\n",
      "       20    0.000    0.000    0.001    0.000 inspect.py:2859(from_callable)\n",
      "       10    0.000    0.000    0.002    0.000 input_transform.py:1113(_extract_metadata)\n",
      "        4    0.000    0.000    0.001    0.000 threading.py:556(wait)\n",
      "    20/10    0.000    0.000    0.052    0.005 {built-in method builtins.next}\n",
      "        4    0.000    0.000    0.000    0.000 utils.py:222(_is_ascii)\n",
      "       80    0.000    0.000    0.000    0.000 {method 'isidentifier' of 'str' objects}\n",
      "        2    0.000    0.000    0.000    0.000 std.py:1164(__str__)\n",
      "       40    0.000    0.000    0.000    0.000 {built-in method builtins.setattr}\n",
      "       40    0.000    0.000    0.000    0.000 inspect.py:159(isfunction)\n",
      "        5    0.000    0.000    0.000    0.000 std.py:108(release)\n",
      "       86    0.000    0.000    0.000    0.000 {built-in method unicodedata.east_asian_width}\n",
      "       30    0.000    0.000    0.000    0.000 data.py:364(__setattr__)\n",
      "        2    0.000    0.000    0.000    0.000 std.py:1460(format_dict)\n",
      "        1    0.000    0.000    0.000    0.000 {built-in method now}\n",
      "       19    0.000    0.000    0.000    0.000 threading.py:1059(_wait_for_tstate_lock)\n",
      "       80    0.000    0.000    0.000    0.000 inspect.py:2548(name)\n",
      "        2    0.000    0.000    0.001    0.000 std.py:1279(close)\n",
      "        6    0.000    0.000    0.001    0.000 utils.py:143(inner)\n",
      "       10    0.000    0.000    0.000    0.000 callback.py:58(on_collate)\n",
      "        1    0.000    0.000    0.000    0.000 std.py:583(_decr_instances)\n",
      "       15    0.000    0.000    0.000    0.000 iostream.py:97(_event_pipe)\n",
      "        1    0.000    0.000    0.000    0.000 std.py:576(_get_free_pos)\n",
      "        4    0.000    0.000    0.000    0.000 threading.py:521(__init__)\n",
      "        1    0.000    0.000    0.001    0.001 dataloader.py:560(__init__)\n",
      "        2    0.000    0.000    0.001    0.001 std.py:1478(display)\n",
      "        3    0.000    0.000    0.000    0.000 _weakrefset.py:63(__iter__)\n",
      "        1    0.000    0.000    0.001    0.001 std.py:329(status_printer)\n",
      "       20    0.000    0.000    0.000    0.000 inspect.py:514(_is_wrapper)\n",
      "       29    0.000    0.000    0.000    0.000 {built-in method builtins.hasattr}\n",
      "        2    0.000    0.000    0.001    0.000 std.py:348(print_status)\n",
      "        4    0.000    0.000    0.000    0.000 iostream.py:420(_is_master_process)\n",
      "        2    0.000    0.000    0.000    0.000 std.py:188(__format__)\n",
      "       10    0.000    0.000    0.000    0.000 input_transform.py:841(_per_batch_transform)\n",
      "        3    0.000    0.000    0.000    0.000 std.py:288(format_interval)\n",
      "       10    0.000    0.000    0.008    0.001 dataloader.py:520(_next_index)\n",
      "        2    0.000    0.000    0.000    0.000 _weakrefset.py:53(_commit_removals)\n",
      "        2    0.000    0.000    0.000    0.000 _weakrefset.py:27(__exit__)\n",
      "    12/11    0.000    0.000    0.001    0.000 {built-in method builtins.iter}\n",
      "        2    0.000    0.000    0.000    0.000 utils.py:333(disp_len)\n",
      "        1    0.000    0.000    0.000    0.000 dataloader.py:51(create_fetcher)\n",
      "       22    0.000    0.000    0.000    0.000 {built-in method builtins.id}\n",
      "        2    0.000    0.000    0.000    0.000 {method 'sub' of 're.Pattern' objects}\n",
      "       50    0.000    0.000    0.000    0.000 inspect.py:2552(default)\n",
      "       10    0.000    0.000    0.000    0.000 callback.py:55(on_per_batch_transform)\n",
      "        1    0.000    0.000    0.000    0.000 utils.py:162(__init__)\n",
      "        1    0.000    0.000    0.000    0.000 _weakrefset.py:86(add)\n",
      "       10    0.000    0.000    0.000    0.000 callback.py:171(on_collate)\n",
      "        4    0.000    0.000    0.000    0.000 std.py:112(__enter__)\n",
      "        4    0.000    0.000    0.000    0.000 threading.py:259(__exit__)\n",
      "        1    0.000    0.000    0.000    0.000 os.py:674(__getitem__)\n",
      "        2    0.000    0.000    0.001    0.000 std.py:342(fp_write)\n",
      "        2    0.000    0.000    0.000    0.000 std.py:155(__init__)\n",
      "        1    0.000    0.000    0.000    0.000 utils.py:296(<listcomp>)\n",
      "        5    0.000    0.000    0.000    0.000 {method 'acquire' of '_multiprocessing.SemLock' objects}\n",
      "       42    0.000    0.000    0.000    0.000 {built-in method builtins.ord}\n",
      "       20    0.000    0.000    0.000    0.000 {built-in method sys.getrecursionlimit}\n",
      "        2    0.000    0.000    0.000    0.000 utils.py:329(_text_width)\n",
      "        2    0.000    0.000    0.000    0.000 std.py:1300(fp_write)\n",
      "       12    0.000    0.000    0.000    0.000 {built-in method time.time}\n",
      "        3    0.000    0.000    0.000    0.000 {method 'remove' of 'set' objects}\n",
      "        4    0.000    0.000    0.000    0.000 {built-in method posix.getpid}\n",
      "        4    0.000    0.000    0.000    0.000 iostream.py:439(_schedule_flush)\n",
      "       10    0.000    0.000    0.000    0.000 {method 'items' of 'mappingproxy' objects}\n",
      "        3    0.000    0.000    0.000    0.000 utils.py:101(wrapper_setattr)\n",
      "       19    0.000    0.000    0.000    0.000 {method 'append' of 'collections.deque' objects}\n",
      "        4    0.000    0.000    0.000    0.000 threading.py:268(_acquire_restore)\n",
      "        1    0.000    0.000    0.000    0.000 {method 'manual_seed' of 'torch._C.Generator' objects}\n",
      "       20    0.000    0.000    0.000    0.000 threading.py:529(is_set)\n",
      "        2    0.000    0.000    0.000    0.000 std.py:1171(__hash__)\n",
      "       10    0.000    0.000    0.000    0.000 callback.py:168(on_per_batch_transform)\n",
      "        4    0.000    0.000    0.000    0.000 threading.py:256(__enter__)\n",
      "        2    0.000    0.000    0.000    0.000 utils.py:136(disable_on_exception)\n",
      "        1    0.000    0.000    0.001    0.001 std.py:1339(refresh)\n",
      "        1    0.000    0.000    0.000    0.000 _monitor.py:94(report)\n",
      "        3    0.000    0.000    0.000    0.000 {method 'add' of 'set' objects}\n",
      "       20    0.000    0.000    0.000    0.000 inspect.py:2865(parameters)\n",
      "        8    0.000    0.000    0.000    0.000 {built-in method _thread.allocate_lock}\n",
      "        1    0.000    0.000    0.000    0.000 fetch.py:44(__init__)\n",
      "        4    0.000    0.000    0.000    0.000 std.py:115(__exit__)\n",
      "        1    0.000    0.000    0.000    0.000 {built-in method utcfromtimestamp}\n",
      "        1    0.000    0.000    0.000    0.000 os.py:754(encode)\n",
      "       20    0.000    0.000    0.000    0.000 {built-in method builtins.callable}\n",
      "        4    0.000    0.000    0.000    0.000 threading.py:265(_release_save)\n",
      "        1    0.000    0.000    0.000    0.000 _weakrefset.py:111(remove)\n",
      "        1    0.000    0.000    0.000    0.000 <frozen importlib._bootstrap>:1033(_handle_fromlist)\n",
      "        1    0.000    0.000    0.000    0.000 fetch.py:8(__init__)\n",
      "        2    0.000    0.000    0.000    0.000 _weakrefset.py:21(__enter__)\n",
      "        2    0.000    0.000    0.000    0.000 utils.py:171(__eq__)\n",
      "        5    0.000    0.000    0.000    0.000 {method 'acquire' of '_thread.RLock' objects}\n",
      "       10    0.000    0.000    0.000    0.000 _collections_abc.py:315(__subclasshook__)\n",
      "        3    0.000    0.000    0.000    0.000 std.py:228(__init__)\n",
      "        1    0.000    0.000    0.001    0.001 dataloader.py:309(_get_iterator)\n",
      "        2    0.000    0.000    0.000    0.000 _weakrefset.py:17(__init__)\n",
      "       20    0.000    0.000    0.000    0.000 {built-in method builtins.globals}\n",
      "        2    0.000    0.000    0.000    0.000 {method 'encode' of 'str' objects}\n",
      "        2    0.000    0.000    0.000    0.000 utils.py:57(__init__)\n",
      "        1    0.000    0.000    0.000    0.000 utils.py:215(_supports_unicode)\n",
      "        8    0.000    0.000    0.000    0.000 {built-in method builtins.divmod}\n",
      "        1    0.000    0.000    0.001    0.001 dataloader.py:355(__iter__)\n",
      "        1    0.000    0.000    0.000    0.000 std.py:579(<setcomp>)\n",
      "        4    0.000    0.000    0.000    0.000 threading.py:271(_is_owned)\n",
      "        1    0.000    0.000    0.000    0.000 utils.py:74(__eq__)\n",
      "        1    0.000    0.000    0.000    0.000 utils.py:105(__init__)\n",
      "        2    0.000    0.000    0.000    0.000 splits.py:58(__len__)\n",
      "       10    0.000    0.000    0.000    0.000 data.py:408(stores_as)\n",
      "        1    0.000    0.000    0.000    0.000 std.py:233(__call__)\n",
      "        1    0.000    0.000    0.000    0.000 std.py:657(get_lock)\n",
      "        2    0.000    0.000    0.000    0.000 std.py:169(colour)\n",
      "        2    0.000    0.000    0.000    0.000 std.py:1167(_comparable)\n",
      "        1    0.000    0.000    0.000    0.000 {method 'difference' of 'set' objects}\n",
      "        4    0.000    0.000    0.000    0.000 {built-in method _imp.lock_held}\n",
      "        2    0.000    0.000    0.000    0.000 {built-in method builtins.max}\n",
      "        2    0.000    0.000    0.000    0.000 utils.py:61(__format__)\n",
      "        5    0.000    0.000    0.000    0.000 {method 'release' of '_multiprocessing.SemLock' objects}\n",
      "        2    0.000    0.000    0.000    0.000 {method 'pop' of 'list' objects}\n",
      "        2    0.000    0.000    0.000    0.000 {built-in method _weakref.proxy}\n",
      "        2    0.000    0.000    0.000    0.000 {method 'update' of 'dict' objects}\n",
      "        1    0.000    0.000    0.000    0.000 utils.py:201(_is_utf)\n",
      "        1    0.000    0.000    0.000    0.000 sampler.py:100(num_samples)\n",
      "        1    0.000    0.000    0.000    0.000 {built-in method __new__ of type object at 0x55def8196300}\n",
      "        1    0.000    0.000    0.000    0.000 iostream.py:303(fileno)\n",
      "        2    0.000    0.000    0.000    0.000 utils.py:88(__getattr__)\n",
      "        5    0.000    0.000    0.000    0.000 {method 'release' of '_thread.RLock' objects}\n",
      "        4    0.000    0.000    0.000    0.000 {method '__enter__' of '_thread.lock' objects}\n",
      "        4    0.000    0.000    0.000    0.000 {built-in method builtins.abs}\n",
      "        4    0.000    0.000    0.000    0.000 {method 'release' of '_thread.lock' objects}\n",
      "        4    0.000    0.000    0.000    0.000 {method '__exit__' of '_thread.lock' objects}\n",
      "        1    0.000    0.000    0.000    0.000 utils.py:231(_screen_shape_wrapper)\n",
      "        1    0.000    0.000    0.000    0.000 std.py:1161(__del__)\n",
      "        1    0.000    0.000    0.000    0.000 {method 'disable' of '_lsprof.Profiler' objects}\n",
      "        1    0.000    0.000    0.000    0.000 {built-in method builtins.min}\n",
      "        2    0.000    0.000    0.000    0.000 dataloader.py:370(_auto_collation)\n",
      "        2    0.000    0.000    0.000    0.000 std.py:165(colour)\n",
      "        1    0.000    0.000    0.000    0.000 dataloader.py:374(_index_sampler)\n",
      "        1    0.000    0.000    0.000    0.000 std.py:1315(<lambda>)"
     ]
    }
   ],
   "source": [
    "%%prun\n",
    "\n",
    "from tqdm import tqdm\n",
    "\n",
    "dl_iter = iter(train_dl)\n",
    "batches = [next(dl_iter) for _ in tqdm(range(10))]"
   ]
  },
  {
   "cell_type": "code",
   "execution_count": null,
   "metadata": {},
   "outputs": [],
   "source": []
  }
 ],
 "metadata": {
  "interpreter": {
   "hash": "068577de2b08a0b4a0c73c2d8302ff9ae1beef315308a6a56d9dfc398e31fbd4"
  },
  "kernelspec": {
   "display_name": "Python 3.9.12 ('qsar-flash')",
   "language": "python",
   "name": "python3"
  },
  "language_info": {
   "codemirror_mode": {
    "name": "ipython",
    "version": 3
   },
   "file_extension": ".py",
   "mimetype": "text/x-python",
   "name": "python",
   "nbconvert_exporter": "python",
   "pygments_lexer": "ipython3",
   "version": "3.9.12"
  },
  "orig_nbformat": 4
 },
 "nbformat": 4,
 "nbformat_minor": 2
}
